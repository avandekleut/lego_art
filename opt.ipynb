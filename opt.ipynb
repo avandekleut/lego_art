{
 "cells": [
  {
   "cell_type": "code",
   "execution_count": 1,
   "id": "cheap-professor",
   "metadata": {},
   "outputs": [],
   "source": [
    "%config IPCompleter.use_jedi = False\n",
    "import warnings\n",
    "warnings.filterwarnings(\"ignore\")"
   ]
  },
  {
   "cell_type": "markdown",
   "id": "corresponding-ordinary",
   "metadata": {},
   "source": [
    "Given a set of pixels $X$, construct an approximation to an image $Y$ that best matches the pixels in $X$."
   ]
  },
  {
   "cell_type": "markdown",
   "id": "destroyed-connection",
   "metadata": {},
   "source": [
    "Constraint: Colours of $X$ are discrete set of colours from lego."
   ]
  },
  {
   "cell_type": "markdown",
   "id": "czech-jurisdiction",
   "metadata": {},
   "source": [
    "Optimization problem?"
   ]
  },
  {
   "cell_type": "markdown",
   "id": "radio-joint",
   "metadata": {},
   "source": [
    "$\\hat{Y} = f(X)$\n",
    "Minimize\n",
    "$$\n",
    "\\| (Y - \\hat{Y}) \\|_F^2\n",
    "$$\n",
    "where $\\| \\|_F$ is the Frobenius norm"
   ]
  },
  {
   "cell_type": "markdown",
   "id": "compressed-heather",
   "metadata": {},
   "source": [
    "1. Posterize the image\n",
    "2. Construct $k$-means clustering of the image to do posterization.\n",
    "3. Learn a mapping $\\phi: N_k \\to N_k$ that minimizes euclidian distance in pixel space (or maybe hsv space, but it should be the same)"
   ]
  },
  {
   "cell_type": "code",
   "execution_count": 2,
   "id": "single-aging",
   "metadata": {},
   "outputs": [],
   "source": [
    "import numpy as np \n",
    "import pandas as pd\n",
    "from sklearn.cluster import KMeans\n",
    "from PIL import Image\n",
    "import cv2\n",
    "from scipy.spatial.distance import cdist\n",
    "from colormath.color_conversions import convert_color\n",
    "from colormath.color_objects import LabColor, sRGBColor\n",
    "from colormath.color_diff import delta_e_cie1976"
   ]
  },
  {
   "cell_type": "markdown",
   "id": "logical-seminar",
   "metadata": {},
   "source": [
    "First download the file `colours.csv` from BrickSet so we can actually optimize for official lego colours."
   ]
  },
  {
   "cell_type": "code",
   "execution_count": 3,
   "id": "bizarre-patrol",
   "metadata": {},
   "outputs": [],
   "source": [
    "# !wget -O colors.csv.gz https://cdn.rebrickable.com/media/downloads/colors.csv.gz?1619680080.59663\n",
    "# !gzip -d colors.csv.gz -y"
   ]
  },
  {
   "cell_type": "markdown",
   "id": "complex-bulletin",
   "metadata": {},
   "source": []
  },
  {
   "cell_type": "code",
   "execution_count": 4,
   "id": "sealed-baptist",
   "metadata": {},
   "outputs": [],
   "source": [
    "colors = pd.read_csv('colors.csv')"
   ]
  },
  {
   "cell_type": "code",
   "execution_count": 5,
   "id": "removable-detection",
   "metadata": {},
   "outputs": [
    {
     "data": {
      "text/html": [
       "<div>\n",
       "<style scoped>\n",
       "    .dataframe tbody tr th:only-of-type {\n",
       "        vertical-align: middle;\n",
       "    }\n",
       "\n",
       "    .dataframe tbody tr th {\n",
       "        vertical-align: top;\n",
       "    }\n",
       "\n",
       "    .dataframe thead th {\n",
       "        text-align: right;\n",
       "    }\n",
       "</style>\n",
       "<table border=\"1\" class=\"dataframe\">\n",
       "  <thead>\n",
       "    <tr style=\"text-align: right;\">\n",
       "      <th></th>\n",
       "      <th>id</th>\n",
       "      <th>name</th>\n",
       "      <th>rgb</th>\n",
       "      <th>is_trans</th>\n",
       "    </tr>\n",
       "  </thead>\n",
       "  <tbody>\n",
       "    <tr>\n",
       "      <th>0</th>\n",
       "      <td>-1</td>\n",
       "      <td>[Unknown]</td>\n",
       "      <td>0033B2</td>\n",
       "      <td>f</td>\n",
       "    </tr>\n",
       "    <tr>\n",
       "      <th>1</th>\n",
       "      <td>0</td>\n",
       "      <td>Black</td>\n",
       "      <td>05131D</td>\n",
       "      <td>f</td>\n",
       "    </tr>\n",
       "    <tr>\n",
       "      <th>2</th>\n",
       "      <td>1</td>\n",
       "      <td>Blue</td>\n",
       "      <td>0055BF</td>\n",
       "      <td>f</td>\n",
       "    </tr>\n",
       "    <tr>\n",
       "      <th>3</th>\n",
       "      <td>2</td>\n",
       "      <td>Green</td>\n",
       "      <td>237841</td>\n",
       "      <td>f</td>\n",
       "    </tr>\n",
       "    <tr>\n",
       "      <th>4</th>\n",
       "      <td>3</td>\n",
       "      <td>Dark Turquoise</td>\n",
       "      <td>008F9B</td>\n",
       "      <td>f</td>\n",
       "    </tr>\n",
       "  </tbody>\n",
       "</table>\n",
       "</div>"
      ],
      "text/plain": [
       "   id            name     rgb is_trans\n",
       "0  -1       [Unknown]  0033B2        f\n",
       "1   0           Black  05131D        f\n",
       "2   1            Blue  0055BF        f\n",
       "3   2           Green  237841        f\n",
       "4   3  Dark Turquoise  008F9B        f"
      ]
     },
     "execution_count": 5,
     "metadata": {},
     "output_type": "execute_result"
    }
   ],
   "source": [
    "colors.head()"
   ]
  },
  {
   "cell_type": "code",
   "execution_count": 6,
   "id": "amateur-better",
   "metadata": {},
   "outputs": [],
   "source": [
    "# drop names containing these\n",
    "banned_names = ['Modulex', '[Unknown]', '[No Color/Any Color]', 'Chrome', 'Metallic', 'Fabuland', 'Vintage', 'Very', 'Glow']\n",
    "\n",
    "# drop Modulex colors\n",
    "colors = colors[colors['name'].apply(lambda name: all([banned_name not in name for banned_name in banned_names]))]\n",
    "\n",
    "# drop trans colors\n",
    "colors = colors[colors['is_trans'].apply(lambda is_trans: is_trans == 'f')]"
   ]
  },
  {
   "cell_type": "code",
   "execution_count": 7,
   "id": "understood-signature",
   "metadata": {},
   "outputs": [],
   "source": [
    "def hex_to_rgb(color):\n",
    "    return np.asarray([int(color[i:i+2], 16) for i in (0, 2, 4)])"
   ]
  },
  {
   "cell_type": "code",
   "execution_count": 8,
   "id": "urban-journey",
   "metadata": {},
   "outputs": [],
   "source": [
    "def rgb_to_hex(rgb):\n",
    "    return ''.join([f'{i:02x}' for i in rgb]).upper()"
   ]
  },
  {
   "cell_type": "code",
   "execution_count": 9,
   "id": "israeli-tracker",
   "metadata": {},
   "outputs": [],
   "source": [
    "def rgb_to_name(rgb):\n",
    "    return colors['name'][colors['rgb'] == rgb_to_hex(rgb)].values[0]\n",
    "\n",
    "def name_to_rgb(name):\n",
    "    return hex_to_rgb(colors['rgb'][colors['name'] == name].values[0])"
   ]
  },
  {
   "cell_type": "code",
   "execution_count": 10,
   "id": "metropolitan-passage",
   "metadata": {},
   "outputs": [],
   "source": [
    "iron_man_colors = [\n",
    "    'Black',\n",
    "    'Dark Blue',\n",
    "    'Dark Bluish Gray',\n",
    "    'Dark Brown',\n",
    "    'Dark Orange',\n",
    "    'Dark Red',\n",
    "    'Dark Tan',\n",
    "    'Light Bluish Gray',\n",
    "    'Medium Nougat',\n",
    "    'Pearl Gold',\n",
    "    'Red',\n",
    "    'Reddish Brown',\n",
    "    'Sand Blue',\n",
    "    'Tan',\n",
    "    'White',\n",
    "]\n",
    "\n",
    "colors = colors[colors['name'].isin(iron_man_colors)]"
   ]
  },
  {
   "cell_type": "code",
   "execution_count": 11,
   "id": "floating-shoulder",
   "metadata": {},
   "outputs": [
    {
     "data": {
      "text/html": [
       "<style  type=\"text/css\" >\n",
       "#T_a1277_row0_col0{\n",
       "            background-color:  #05131D;\n",
       "        }#T_a1277_row1_col0{\n",
       "            background-color:  #C91A09;\n",
       "        }#T_a1277_row2_col0{\n",
       "            background-color:  #FFFFFF;\n",
       "        }#T_a1277_row3_col0{\n",
       "            background-color:  #E4CD9E;\n",
       "        }#T_a1277_row4_col0{\n",
       "            background-color:  #958A73;\n",
       "        }#T_a1277_row5_col0{\n",
       "            background-color:  #582A12;\n",
       "        }#T_a1277_row6_col0{\n",
       "            background-color:  #A0A5A9;\n",
       "        }#T_a1277_row7_col0{\n",
       "            background-color:  #6C6E68;\n",
       "        }#T_a1277_row8_col0{\n",
       "            background-color:  #CC702A;\n",
       "        }#T_a1277_row9_col0{\n",
       "            background-color:  #0A3463;\n",
       "        }#T_a1277_row10_col0{\n",
       "            background-color:  #AA7F2E;\n",
       "        }#T_a1277_row11_col0{\n",
       "            background-color:  #352100;\n",
       "        }#T_a1277_row12_col0{\n",
       "            background-color:  #720E0F;\n",
       "        }#T_a1277_row13_col0{\n",
       "            background-color:  #6074A1;\n",
       "        }#T_a1277_row14_col0{\n",
       "            background-color:  #A95500;\n",
       "        }</style><table id=\"T_a1277_\" ><thead>    <tr>        <th class=\"blank level0\" ></th>        <th class=\"col_heading level0 col0\" >name</th>    </tr></thead><tbody>\n",
       "                <tr>\n",
       "                        <th id=\"T_a1277_level0_row0\" class=\"row_heading level0 row0\" >1</th>\n",
       "                        <td id=\"T_a1277_row0_col0\" class=\"data row0 col0\" >Black</td>\n",
       "            </tr>\n",
       "            <tr>\n",
       "                        <th id=\"T_a1277_level0_row1\" class=\"row_heading level0 row1\" >5</th>\n",
       "                        <td id=\"T_a1277_row1_col0\" class=\"data row1 col0\" >Red</td>\n",
       "            </tr>\n",
       "            <tr>\n",
       "                        <th id=\"T_a1277_level0_row2\" class=\"row_heading level0 row2\" >16</th>\n",
       "                        <td id=\"T_a1277_row2_col0\" class=\"data row2 col0\" >White</td>\n",
       "            </tr>\n",
       "            <tr>\n",
       "                        <th id=\"T_a1277_level0_row3\" class=\"row_heading level0 row3\" >19</th>\n",
       "                        <td id=\"T_a1277_row3_col0\" class=\"data row3 col0\" >Tan</td>\n",
       "            </tr>\n",
       "            <tr>\n",
       "                        <th id=\"T_a1277_level0_row4\" class=\"row_heading level0 row4\" >27</th>\n",
       "                        <td id=\"T_a1277_row4_col0\" class=\"data row4 col0\" >Dark Tan</td>\n",
       "            </tr>\n",
       "            <tr>\n",
       "                        <th id=\"T_a1277_level0_row5\" class=\"row_heading level0 row5\" >53</th>\n",
       "                        <td id=\"T_a1277_row5_col0\" class=\"data row5 col0\" >Reddish Brown</td>\n",
       "            </tr>\n",
       "            <tr>\n",
       "                        <th id=\"T_a1277_level0_row6\" class=\"row_heading level0 row6\" >54</th>\n",
       "                        <td id=\"T_a1277_row6_col0\" class=\"data row6 col0\" >Light Bluish Gray</td>\n",
       "            </tr>\n",
       "            <tr>\n",
       "                        <th id=\"T_a1277_level0_row7\" class=\"row_heading level0 row7\" >55</th>\n",
       "                        <td id=\"T_a1277_row7_col0\" class=\"data row7 col0\" >Dark Bluish Gray</td>\n",
       "            </tr>\n",
       "            <tr>\n",
       "                        <th id=\"T_a1277_level0_row8\" class=\"row_heading level0 row8\" >66</th>\n",
       "                        <td id=\"T_a1277_row8_col0\" class=\"data row8 col0\" >Medium Nougat</td>\n",
       "            </tr>\n",
       "            <tr>\n",
       "                        <th id=\"T_a1277_level0_row9\" class=\"row_heading level0 row9\" >103</th>\n",
       "                        <td id=\"T_a1277_row9_col0\" class=\"data row9 col0\" >Dark Blue</td>\n",
       "            </tr>\n",
       "            <tr>\n",
       "                        <th id=\"T_a1277_level0_row10\" class=\"row_heading level0 row10\" >106</th>\n",
       "                        <td id=\"T_a1277_row10_col0\" class=\"data row10 col0\" >Pearl Gold</td>\n",
       "            </tr>\n",
       "            <tr>\n",
       "                        <th id=\"T_a1277_level0_row11\" class=\"row_heading level0 row11\" >107</th>\n",
       "                        <td id=\"T_a1277_row11_col0\" class=\"data row11 col0\" >Dark Brown</td>\n",
       "            </tr>\n",
       "            <tr>\n",
       "                        <th id=\"T_a1277_level0_row12\" class=\"row_heading level0 row12\" >109</th>\n",
       "                        <td id=\"T_a1277_row12_col0\" class=\"data row12 col0\" >Dark Red</td>\n",
       "            </tr>\n",
       "            <tr>\n",
       "                        <th id=\"T_a1277_level0_row13\" class=\"row_heading level0 row13\" >120</th>\n",
       "                        <td id=\"T_a1277_row13_col0\" class=\"data row13 col0\" >Sand Blue</td>\n",
       "            </tr>\n",
       "            <tr>\n",
       "                        <th id=\"T_a1277_level0_row14\" class=\"row_heading level0 row14\" >124</th>\n",
       "                        <td id=\"T_a1277_row14_col0\" class=\"data row14 col0\" >Dark Orange</td>\n",
       "            </tr>\n",
       "    </tbody></table>"
      ],
      "text/plain": [
       "<pandas.io.formats.style.Styler at 0x7fb711bfe5b0>"
      ]
     },
     "execution_count": 11,
     "metadata": {},
     "output_type": "execute_result"
    }
   ],
   "source": [
    "styler = colors['name'].to_frame().style.apply(\n",
    "    lambda rgb: [f'background-color: #{x}' for x in colors['rgb']], \n",
    ")\n",
    "\n",
    "styler"
   ]
  },
  {
   "cell_type": "code",
   "execution_count": 12,
   "id": "varied-mathematics",
   "metadata": {},
   "outputs": [],
   "source": [
    "official_colors = np.asarray([hex_to_rgb(color) for color in colors['rgb']], dtype='uint8')"
   ]
  },
  {
   "cell_type": "code",
   "execution_count": 13,
   "id": "juvenile-deadline",
   "metadata": {},
   "outputs": [],
   "source": [
    "def clusterize(colors, n_clusters=12):\n",
    "        \"\"\"\n",
    "        Given an nx3 vector of colors (in any color space)\n",
    "        convert each pixel to the centroid of classes\n",
    "        predicted by a k-means classifier.\n",
    "        \"\"\"\n",
    "        kmeans = KMeans(n_clusters=n_clusters)\n",
    "        cluster_indices = kmeans.fit_predict(colors)\n",
    "        mapped = kmeans.cluster_centers_[cluster_indices].astype('uint8')\n",
    "        return mapped"
   ]
  },
  {
   "cell_type": "code",
   "execution_count": 72,
   "id": "hydraulic-macedonia",
   "metadata": {},
   "outputs": [
    {
     "data": {
      "image/png": "[encoded data removed]",
      "text/plain": [
       "<PIL.Image.Image image mode=RGB size=10x20 at 0x7FB710F281C0>"
      ]
     },
     "execution_count": 72,
     "metadata": {},
     "output_type": "execute_result"
    }
   ],
   "source": [
    "Image.fromarray(np.zeros((10, 10, 3), dtype='uint8')).resize((10, 20))"
   ]
  },
  {
   "cell_type": "code",
   "execution_count": 76,
   "id": "smart-anime",
   "metadata": {},
   "outputs": [],
   "source": [
    "class Art:\n",
    "    def __init__(self, path, size=(48, 48), resize_method=Image.BOX):\n",
    "        \"\"\"\n",
    "        Simple container class to hold raw and resized images and pixels.\n",
    "        Helps avoiding having to cast back and forth all the time.\n",
    "        \"\"\"\n",
    "        \n",
    "        raw_image = Image.open(path)\n",
    "        \n",
    "        self.raw_pixels = np.asarray(raw_image)[..., :3] # drop alpha channel\n",
    "        self.raw_image = Image.fromarray(self.raw_pixels)\n",
    "        \n",
    "        self.size = size\n",
    "        self.image = self.raw_image.resize(size, resize_method)\n",
    "        self.pixels = np.asarray(self.image)\n",
    "#         assert self.pixels.shape == (*size, 3), f'{self.pixels.shape} != {(*size, 3)}'\n",
    "        \n",
    "    def display(self, size=None):\n",
    "        if size is None:\n",
    "            size = self.size\n",
    "        return self.image.resize(size, Image.NEAREST)\n",
    "        \n",
    "    def convert_to_official_colors(self, image, palette, n_clusters=20, transform=cv2.COLOR_RGB2LAB):\n",
    "        \"\"\"\n",
    "        image: Image to convert\n",
    "        palette: kx3 vector for rgb colors\n",
    "        \"\"\"\n",
    "        \n",
    "        pixels = self.pixels.reshape(1, -1, 3) # flatten image\n",
    "        palette = palette.reshape(1, -1, 3) # extend palette to flat image\n",
    "        \n",
    "        pixels_lab = cv2.cvtColor(pixels, transform).squeeze()   # convert to cielab\n",
    "        palette_lab = cv2.cvtColor(palette, transform).squeeze()\n",
    "        \n",
    "        if n_clusters > 0:\n",
    "            pixels_lab = clusterize(pixels_lab, n_clusters)\n",
    "        \n",
    "        pairwise_distances = cdist(pixels_lab, palette_lab)\n",
    "        min_distance_indices = pairwise_distances.argmin(axis=1)\n",
    "        \n",
    "        mapped = palette[:, min_distance_indices, ...]\n",
    "        mapped = mapped.reshape(self.pixels.shape)\n",
    "        return Image.fromarray(mapped)"
   ]
  },
  {
   "cell_type": "code",
   "execution_count": 77,
   "id": "rental-siemens",
   "metadata": {},
   "outputs": [],
   "source": [
    "# art = Art('images/misc/iron_man.jpg', resize_method=Image.BOX)\n",
    "# art = Art('images/misc/iron_man.jpg', resize_method=Image.NEAREST)\n",
    "art = Art('images/iron_man/1.png', resize_method=Image.NEAREST)"
   ]
  },
  {
   "cell_type": "code",
   "execution_count": 78,
   "id": "negative-above",
   "metadata": {},
   "outputs": [
    {
     "data": {
      "image/png": "[encoded data removed]",
      "text/plain": [
       "<PIL.Image.Image image mode=RGB size=48x48 at 0x7FB710F28160>"
      ]
     },
     "execution_count": 78,
     "metadata": {},
     "output_type": "execute_result"
    }
   ],
   "source": [
    "# art.raw_image.resize((256, 256))\n",
    "art.display()"
   ]
  },
  {
   "cell_type": "code",
   "execution_count": 79,
   "id": "orange-metropolitan",
   "metadata": {},
   "outputs": [
    {
     "data": {
      "image/png": "[encoded data removed]",
      "text/plain": [
       "<PIL.Image.Image image mode=RGB size=255x255 at 0x7FB710F28C40>"
      ]
     },
     "execution_count": 79,
     "metadata": {},
     "output_type": "execute_result"
    }
   ],
   "source": [
    "converted = art.convert_to_official_colors(art.image, official_colors, n_clusters=20).resize((255, 255), Image.NEAREST)\n",
    "converted"
   ]
  },
  {
   "cell_type": "markdown",
   "id": "medical-psychology",
   "metadata": {},
   "source": [
    "1. For each colour of stud you have, find the unpainted pixel that most closely matches.\n",
    "2. If there is no such unpainted pixel, set this stud aside for later.\n",
    "3. Once you are done, you should have some pixels where by fit best, and then some leftover pixels where their closest match is taken. Repeat the process, but try to fit them into their second best."
   ]
  },
  {
   "cell_type": "markdown",
   "id": "economic-consciousness",
   "metadata": {},
   "source": [
    "As an example case, convert the solution from image `1.png` and try to fill in `2.png`."
   ]
  },
  {
   "cell_type": "code",
   "execution_count": 80,
   "id": "ancient-abraham",
   "metadata": {},
   "outputs": [],
   "source": [
    "art_1 = Art('images/iron_man/1.png', resize_method=Image.NEAREST)\n",
    "art_2 = Art('images/iron_man/2.png', resize_method=Image.NEAREST)"
   ]
  },
  {
   "cell_type": "code",
   "execution_count": 81,
   "id": "finite-humidity",
   "metadata": {},
   "outputs": [],
   "source": [
    "image_1 = art_1.convert_to_official_colors(art_1.image, official_colors)\n",
    "image_2 = art_2.image\n",
    "\n",
    "pixels_1 = np.asarray(image_1)\n",
    "pixels_2 = np.asarray(image_2)"
   ]
  },
  {
   "cell_type": "code",
   "execution_count": 82,
   "id": "senior-somewhere",
   "metadata": {},
   "outputs": [],
   "source": [
    "def palette_to_freq(image, use_name=False):\n",
    "    \"\"\"\n",
    "    pixels: Image or nx3 vector of rgb\n",
    "    \"\"\"\n",
    "    frequencies = {}\n",
    "    for rgb in np.asarray(image).reshape(-1, 3):\n",
    "        key = rgb_to_name(rgb) if use_name else tuple(rgb)\n",
    "        try:\n",
    "            frequencies[key] += 1\n",
    "        except:\n",
    "            frequencies[key] = 1\n",
    "    return frequencies"
   ]
  },
  {
   "cell_type": "code",
   "execution_count": 83,
   "id": "rough-relaxation",
   "metadata": {},
   "outputs": [],
   "source": [
    "import PIL"
   ]
  },
  {
   "cell_type": "code",
   "execution_count": 84,
   "id": "nominated-naples",
   "metadata": {
    "scrolled": true,
    "tags": []
   },
   "outputs": [],
   "source": [
    "def translate(image, palette):\n",
    "    \"\"\"\n",
    "    pixels: source image \n",
    "    palette: target image colors\n",
    "    \"\"\"\n",
    "    pixels = np.asarray(image)\n",
    "    \n",
    "    palette = np.asarray(palette).reshape(-1, 3)\n",
    "\n",
    "    pixels_vec = pixels.reshape(1, -1, 3) # flatten image\n",
    "    palette_vec = palette.reshape(1, -1, 3) # extend palette to flat image\n",
    "\n",
    "    pixels_lab = cv2.cvtColor(pixels_vec, cv2.COLOR_RGB2LAB).squeeze()   # convert to cielab\n",
    "    palette_lab = cv2.cvtColor(palette_vec, cv2.COLOR_RGB2LAB).squeeze()\n",
    "\n",
    "    pairwise_distances = cdist(pixels_lab, palette_lab)\n",
    "    \n",
    "    freq = palette_to_freq(palette)\n",
    "\n",
    "    sol = np.zeros(pixels_lab.shape, dtype='uint8')\n",
    "    for source_pixel in pairwise_distances.min(axis=1).argsort():\n",
    "        target_colors = palette[pairwise_distances[source_pixel].argsort()]\n",
    "        for target_color in target_colors:\n",
    "            key = tuple(target_color)\n",
    "            if key in freq:\n",
    "                if freq[key] >= 1:\n",
    "                    freq[key] -= 1\n",
    "                    sol[source_pixel] = target_color\n",
    "                    break\n",
    "\n",
    "    return Image.fromarray(sol.reshape(pixels.shape))"
   ]
  },
  {
   "cell_type": "code",
   "execution_count": 85,
   "id": "filled-medline",
   "metadata": {},
   "outputs": [],
   "source": [
    "def freq_to_image(freq):\n",
    "    \"\"\"\n",
    "    freq: dict of rgb\n",
    "    \"\"\"\n",
    "    palette = np.vstack([np.asarray([list(key)]*f) for key, f in freq.items()]).astype('uint8')\n",
    "    return Image.fromarray(palette.reshape(1, -1, 3))"
   ]
  },
  {
   "cell_type": "markdown",
   "id": "progressive-beast",
   "metadata": {},
   "source": [
    "Official color counts from lego:"
   ]
  },
  {
   "cell_type": "code",
   "execution_count": 86,
   "id": "prospective-demographic",
   "metadata": {},
   "outputs": [],
   "source": [
    "freq = {\n",
    "    'Black':476,\n",
    "    'Dark Blue':529,\n",
    "    'Dark Bluish Gray':91,\n",
    "    'Dark Brown':196,\n",
    "    'Dark Orange':162,\n",
    "    'Dark Red':214,\n",
    "    'Dark Tan':97,\n",
    "    'Light Bluish Gray':31,\n",
    "    'Medium Nougat':208,\n",
    "    'Pearl Gold':232,\n",
    "    'Red':308,\n",
    "    'Reddish Brown':191,\n",
    "    'Sand Blue':23,\n",
    "    'Tan':155,\n",
    "    'White':61,\n",
    "}\n",
    "\n",
    "# convert to rgb keys\n",
    "freq = {tuple(name_to_rgb(name)): freq[name] for name in freq}\n",
    "\n",
    "# treat as pixels of an image\n",
    "freq_image = freq_to_image(freq)"
   ]
  },
  {
   "cell_type": "code",
   "execution_count": 87,
   "id": "falling-stevens",
   "metadata": {},
   "outputs": [
    {
     "data": {
      "image/png": "[encoded data removed]",
      "text/plain": [
       "<PIL.Image.Image image mode=RGB size=256x256 at 0x7FB74C8C7340>"
      ]
     },
     "execution_count": 87,
     "metadata": {},
     "output_type": "execute_result"
    }
   ],
   "source": [
    "translate(art_2.image, freq_image).resize((256, 256), Image.NEAREST)"
   ]
  },
  {
   "cell_type": "code",
   "execution_count": 88,
   "id": "naked-basement",
   "metadata": {},
   "outputs": [
    {
     "data": {
      "image/png": "[encoded data removed]",
      "text/plain": [
       "<PIL.Image.Image image mode=RGB size=256x256 at 0x7FB710F0F550>"
      ]
     },
     "execution_count": 88,
     "metadata": {},
     "output_type": "execute_result"
    }
   ],
   "source": [
    "converted = art_2.convert_to_official_colors(art_2.image, official_colors)\n",
    "converted.resize((256, 256), Image.NEAREST)"
   ]
  },
  {
   "cell_type": "code",
   "execution_count": 89,
   "id": "independent-acrobat",
   "metadata": {},
   "outputs": [
    {
     "data": {
      "text/plain": [
       "{(96, 116, 161): 111,\n",
       " (108, 110, 104): 33,\n",
       " (10, 52, 99): 163,\n",
       " (53, 33, 0): 233,\n",
       " (5, 19, 29): 219,\n",
       " (201, 26, 9): 311,\n",
       " (88, 42, 18): 110,\n",
       " (114, 14, 15): 393,\n",
       " (169, 85, 0): 197,\n",
       " (228, 205, 158): 108,\n",
       " (204, 112, 42): 196,\n",
       " (170, 127, 46): 122,\n",
       " (149, 138, 115): 77,\n",
       " (255, 255, 255): 31}"
      ]
     },
     "execution_count": 89,
     "metadata": {},
     "output_type": "execute_result"
    }
   ],
   "source": [
    "converted_freq = palette_to_freq(converted)\n",
    "converted_freq"
   ]
  },
  {
   "cell_type": "code",
   "execution_count": 90,
   "id": "rental-value",
   "metadata": {},
   "outputs": [
    {
     "name": "stdout",
     "output_type": "stream",
     "text": [
      "Sand Blue       freq: 23    converted_freq: 111\n",
      "Light Bluish Gray       freq: 31    converted_freq: 0\n",
      "Pearl Gold       freq: 232    converted_freq: 122\n",
      "Dark Red       freq: 214    converted_freq: 393\n",
      "Dark Orange       freq: 162    converted_freq: 197\n",
      "Black       freq: 476    converted_freq: 219\n",
      "Dark Brown       freq: 196    converted_freq: 233\n",
      "Tan       freq: 155    converted_freq: 108\n",
      "Dark Bluish Gray       freq: 91    converted_freq: 33\n",
      "Reddish Brown       freq: 191    converted_freq: 110\n",
      "Dark Tan       freq: 97    converted_freq: 77\n",
      "Medium Nougat       freq: 208    converted_freq: 196\n",
      "Dark Blue       freq: 529    converted_freq: 163\n",
      "White       freq: 61    converted_freq: 31\n",
      "Red       freq: 308    converted_freq: 311\n"
     ]
    }
   ],
   "source": [
    "for key in set(converted_freq.keys()) | set(freq.keys()):\n",
    "    if key in converted_freq and key in freq:\n",
    "        print(f'{rgb_to_name(key)}       freq: {freq[key]}    converted_freq: {converted_freq[key]}')\n",
    "    elif key in converted_freq:\n",
    "        print(f'{rgb_to_name(key)}       freq: {0}    converted_freq: {converted_freq[key]}')\n",
    "    else:\n",
    "        print(f'{rgb_to_name(key)}       freq: {freq[key]}    converted_freq: {0}')"
   ]
  },
  {
   "cell_type": "code",
   "execution_count": 91,
   "id": "official-bread",
   "metadata": {},
   "outputs": [],
   "source": [
    "art_3 = Art('images/iron_man/4.png', size=(3*48, 48))"
   ]
  },
  {
   "cell_type": "code",
   "execution_count": 92,
   "id": "blessed-nursing",
   "metadata": {},
   "outputs": [
    {
     "data": {
      "image/png": "[encoded data removed]",
      "text/plain": [
       "<PIL.Image.Image image mode=RGB size=144x48 at 0x7FB710F0F100>"
      ]
     },
     "execution_count": 92,
     "metadata": {},
     "output_type": "execute_result"
    }
   ],
   "source": [
    "art_3.display()"
   ]
  },
  {
   "cell_type": "code",
   "execution_count": 94,
   "id": "charming-musical",
   "metadata": {},
   "outputs": [],
   "source": [
    "new_freq = {key: freq[key]*3 for key, f in freq.items()}"
   ]
  },
  {
   "cell_type": "code",
   "execution_count": 96,
   "id": "generous-extraction",
   "metadata": {},
   "outputs": [
    {
     "data": {
      "image/png": "[encoded data removed]",
      "text/plain": [
       "<PIL.Image.Image image mode=RGB size=768x256 at 0x7FB710F8C520>"
      ]
     },
     "execution_count": 96,
     "metadata": {},
     "output_type": "execute_result"
    }
   ],
   "source": [
    "translate(art_3.image, freq_to_image(new_freq)).resize((3*256, 256), Image.NEAREST)"
   ]
  },
  {
   "cell_type": "code",
   "execution_count": 100,
   "id": "marked-brass",
   "metadata": {},
   "outputs": [
    {
     "data": {
      "image/png": "[encoded data removed]",
      "text/plain": [
       "<PIL.Image.Image image mode=RGB size=768x256 at 0x7FB711C3A580>"
      ]
     },
     "execution_count": 100,
     "metadata": {},
     "output_type": "execute_result"
    }
   ],
   "source": [
    "art_3.convert_to_official_colors(art_3.image, official_colors).resize((3*256, 256), Image.NEAREST)"
   ]
  },
  {
   "cell_type": "code",
   "execution_count": 98,
   "id": "rising-rally",
   "metadata": {},
   "outputs": [
    {
     "data": {
      "image/png": "[encoded data removed]",
      "text/plain": [
       "<PIL.Image.Image image mode=RGB size=768x256 at 0x7FB710F0FEB0>"
      ]
     },
     "execution_count": 98,
     "metadata": {},
     "output_type": "execute_result"
    }
   ],
   "source": [
    "art_3.image.resize((3*256, 256), Image.NEAREST)"
   ]
  },
  {
   "cell_type": "code",
   "execution_count": null,
   "id": "unnecessary-browser",
   "metadata": {},
   "outputs": [],
   "source": []
  }
 ],
 "metadata": {
  "kernelspec": {
   "display_name": "Python 3",
   "language": "python",
   "name": "python3"
  },
  "language_info": {
   "codemirror_mode": {
    "name": "ipython",
    "version": 3
   },
   "file_extension": ".py",
   "mimetype": "text/x-python",
   "name": "python",
   "nbconvert_exporter": "python",
   "pygments_lexer": "ipython3",
   "version": "3.8.3"
  }
 },
 "nbformat": 4,
 "nbformat_minor": 5
}
